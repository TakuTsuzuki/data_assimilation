{
 "cells": [
  {
   "cell_type": "code",
   "execution_count": 1,
   "metadata": {
    "collapsed": true
   },
   "outputs": [],
   "source": [
    "%matplotlib inline\n",
    "import numpy as np\n",
    "import scipy as sp\n",
    "import matplotlib.pyplot as plt "
   ]
  },
  {
   "cell_type": "markdown",
   "metadata": {},
   "source": [
    "# Task5： Kalman filterの実装"
   ]
  },
  {
   "cell_type": "markdown",
   "metadata": {},
   "source": [
    "## Model"
   ]
  },
  {
   "cell_type": "code",
   "execution_count": 2,
   "metadata": {
    "collapsed": true
   },
   "outputs": [],
   "source": [
    "def Lorenz(X, F=8.):\n",
    "    dXdt = np.array([])\n",
    "    for i in xrange(len(X)):\n",
    "        # assume Periodic boundary condition\n",
    "        diff = (-X[i-2]*X[i-1]+X[i-1]*X[(i+1)%len(X)]-X[i]+F)\n",
    "        dXdt = np.append(dXdt, diff)\n",
    "    dXdt = dXdt.reshape((len(dXdt),1))\n",
    "    return dXdt"
   ]
  },
  {
   "cell_type": "code",
   "execution_count": 3,
   "metadata": {
    "collapsed": true
   },
   "outputs": [],
   "source": [
    "def time_step(X,dt, model=None):\n",
    "    k1 = dt*Lorenz(X, F)\n",
    "    k2 = dt*Lorenz(X+k1/2, F)\n",
    "    k3 = dt*Lorenz(X+k2/2, F)\n",
    "    k4 = dt*Lorenz(X+k3, F)\n",
    "    return X + (k1/6 + k2/3 + k3/3 + k4/6)"
   ]
  },
  {
   "cell_type": "markdown",
   "metadata": {},
   "source": [
    "## Kalman filter"
   ]
  },
  {
   "cell_type": "markdown",
   "metadata": {},
   "source": [
    "### Prediction\n",
    "$$\n",
    "\\begin{equation}\n",
    "\\\\[0pt] \\hspace{0mm} x_{t}^f =  f(x_{t-1}^a) \n",
    "\\end{equation}\n",
    "$$\n",
    "\\\n",
    "$$\n",
    "\\begin{equation}\n",
    "\\\\[30pt] \\hspace{17mm} P_{t}^f= M P_{t-1}^a M^T + C\n",
    "\\end{equation}\n",
    "$$"
   ]
  },
  {
   "cell_type": "markdown",
   "metadata": {},
   "source": [
    "#### Mの求め方\n",
    "\n",
    "$$\n",
    "\\begin{equation}\n",
    "\\\\[0pt] \\hspace{0mm} f(x_{t}^a + \\epsilon) =  f(x_{t}^a ) + M\\epsilon+O(\\epsilon^2)\n",
    "\\end{equation}\n",
    "$$\n",
    "\\\\\n",
    "$$\n",
    "\\begin{equation}\n",
    "\\\\[0pt] \\hspace{5mm} M\\epsilon \\simeq f(x_{t}^a + \\epsilon) - f(x_{t}^a )\n",
    "\\\\[10pt] \\hspace{9mm} \\epsilon_{i} =  (0, 0  \\cdots, \\delta, \\cdots,0)^T とすると\n",
    "\\end{equation}\n",
    "$$\n",
    "\\\\\n",
    "$$\n",
    "\\begin{equation}\n",
    "\\\\[0pt] \\hspace{-5mm} M \\epsilon_{i} = \\delta  \\sum_{j}  M_{ji}　より \n",
    "\\end{equation}\n",
    "$$\n",
    "\\\\\n",
    "$$\n",
    "\\begin{equation}\n",
    "\\\\[0pt] \\hspace{10mm} \\sum_{j}  M_{ji} =\\frac{f(x_{t}^a + \\epsilon_{i}) - f(x_{t}^a )}{\\delta}　よって\n",
    "\\end{equation}\n",
    "$$\n",
    "\\\\\n",
    "$$\n",
    "\\begin{equation}\n",
    "\\\\[0pt] \\hspace{0mm} M =\\sum_{j i}  M_{ji} =\\sum_{i}\\frac{f(x_{t}^a + \\epsilon_{i}) - f(x_{t}^a )}{\\delta}　\n",
    "\\end{equation}\n",
    "$$\n",
    "\\\\\n",
    "$$\n",
    "\\begin{equation}\n",
    "\\\\[0pt] \\hspace{0mm} ただし，　\\delta = 10^{-2}　\n",
    "\\end{equation}\n",
    "$$"
   ]
  },
  {
   "cell_type": "markdown",
   "metadata": {},
   "source": [
    "To do:\n",
    "deltaMの答え合わせする"
   ]
  },
  {
   "cell_type": "code",
   "execution_count": 48,
   "metadata": {
    "collapsed": false
   },
   "outputs": [],
   "source": [
    "def predict(Xa, Pa, C=0., step=1, dt=0.05, model= None, delta=1e-3):\n",
    "    #prediction of state\n",
    "    Xf = time_step(Xa, dt=dt, model=model)\n",
    "    \n",
    "    # caluculate Targent Linear model\n",
    "    deltaM = np.array([])\n",
    "    for i in xrange(len(Xa)):\n",
    "        #print i\n",
    "        e = np.zeros((len(Xa),1))\n",
    "        e[i] = delta\n",
    "        X = time_step(Xa+e, dt=dt, model=model)\n",
    "        deltaM = np.append(deltaM,Xf-X)\n",
    "    M = (deltaM.reshape(len(Xa),len(Xa))).T/delta\n",
    "    \n",
    "    # check M\n",
    "    eps = delta*np.random.rand(len(Xa),1)\n",
    "    X = time_step(Xa+eps, dt=dt, model=model)\n",
    "    a = Xf - X\n",
    "    b = np.dot(M, eps)\n",
    "    e = np.sum(np.power(a-b,2))\n",
    "    \n",
    "    print \"Xf - X\", np.sum(np.power(a,2))\n",
    "    print \"M e\" , np.sum(np.power(b,2))\n",
    "    print e\n",
    "    \n",
    "    #prediction of error\n",
    "    Pf = np.dot(M,np.dot(Pa,M.T)) + C\n",
    "    \n",
    "    return Xf, Pf"
   ]
  },
  {
   "cell_type": "markdown",
   "metadata": {},
   "source": [
    "### Analysis\n",
    "$$\n",
    "\\begin{equation}\n",
    "\\\\[0pt] \\hspace{0mm} x_{t}^a =  x_{t}^f + K(y^o - H(x_{i}^f))\n",
    "\\end{equation}\n",
    "$$\n",
    "\\\\\n",
    "$$\n",
    "\\begin{equation}\n",
    "\\\\[0pt] \\hspace{0mm} P_{t}^a =  (I-K_{i}H)P_{t}^f \n",
    "\\end{equation}\n",
    "$$\n",
    "\\\\\n",
    "$$\n",
    "\\begin{equation}\n",
    "\\\\[0pt] \\hspace{0mm} K_{t} =  P_{i}^f H^T(HP_{i}^fH^T + R)^{-1} \n",
    "\\end{equation}\n",
    "$$\n",
    "\\\\\n",
    "$$\n",
    "\\begin{equation}\n",
    "\\\\[0pt] \\hspace{-50mm} ただし，ここでは\n",
    "\\\\[10pt] \\hspace{-10mm}H = \\bf{I}\\in{R^{d\\times d}}\n",
    "\\\\[10pt] \\hspace{-10mm}R = \\bf{I}\\in{R^{d\\times d}}\n",
    "\\\\[0pt] \\hspace{0mm}\n",
    "\\end{equation}\n",
    "$$"
   ]
  },
  {
   "cell_type": "code",
   "execution_count": 49,
   "metadata": {
    "collapsed": true
   },
   "outputs": [],
   "source": [
    "def fit(obs, Xf, Pf, H, R):\n",
    "    hoge = np.linalg.inv(np.dot(H,np.dot(Pf,H.T))+R)\n",
    "    K = np.dot(Pf, np.dot(H.T, hoge))\n",
    "    Xa = Xf + np.dot(K, obs-np.dot(H, Xf))\n",
    "    Pa = np.dot(1.-np.dot(K,H), Pf)\n",
    "    \n",
    "    return Xa, Pa"
   ]
  },
  {
   "cell_type": "code",
   "execution_count": 50,
   "metadata": {
    "collapsed": true
   },
   "outputs": [],
   "source": [
    "def error(obs, X, H):\n",
    "    x = obs-np.dot(H,X)\n",
    "    return np.sqrt(np.sum(np.power(x,2)))"
   ]
  },
  {
   "cell_type": "code",
   "execution_count": 54,
   "metadata": {
    "collapsed": true
   },
   "outputs": [],
   "source": [
    "def KL_logging(data, X0, P0, C, H, R ,dt, model=None):\n",
    "    #Logging\n",
    "    records={}\n",
    "    records[\"Xf\"]=np.array([])\n",
    "    records[\"Xa\"]=np.array([])\n",
    "    records[\"Pf\"]=np.array([])\n",
    "    records[\"Pa\"]=np.array([])\n",
    "    records[\"E_pred\"]=np.array([])\n",
    "    records[\"E_fit\"]=np.array([])\n",
    "    \n",
    "    Xa = X0\n",
    "    Pa = P0\n",
    "    \n",
    "    # assimilation\n",
    "    for t in xrange(data.shape[1]):\n",
    "        print t\n",
    "        obs = data[:,t,np.newaxis]\n",
    "        Xf, Pf= predict(Xa, Pa, C)\n",
    "        print \"Xf\", np.sum(np.power(Xf,2))\n",
    "        print \"Pf\", np.trace(Pf)\n",
    "        \n",
    "        Xa, Pa = fit(obs, Xf, Pf, H, R)\n",
    "        print \"Xa\", np.sum(np.power(Xa,2))\n",
    "        print \"Pa\", np.trace(Pf)\n",
    "        \n",
    "        E_pred = error(obs, Xf, H)\n",
    "        E_fit = error(obs, Xa, H)\n",
    "    \n",
    "        records[\"Xf\"]=np.append(records[\"Xf\"], Xf)\n",
    "        records[\"Xa\"]=np.append(records[\"Xa\"], Xa)\n",
    "        records[\"Pf\"]=np.append(records[\"Pf\"], Pf)\n",
    "        records[\"Pa\"]=np.append(records[\"Pa\"], Pa)\n",
    "        records[\"E_pred\"]=np.append(records[\"E_pred\"], E_pred)\n",
    "        records[\"E_fit\"]=np.append(records[\"E_fit\"], E_fit)\n",
    "    \n",
    "    records[\"Xf\"]=records[\"Xf\"].reshape((data.shape[0],data.shape[1]))\n",
    "    records[\"Xa\"]=records[\"Xa\"].reshape((data.shape[0],data.shape[1]))\n",
    "    records[\"Pf\"]=records[\"Pf\"].reshape((data.shape[1],data.shape[0],data.shape[0]))\n",
    "    records[\"Pa\"]=records[\"Pa\"].reshape((data.shape[1],data.shape[0],data.shape[0]))    \n",
    "    \n",
    "    return records"
   ]
  },
  {
   "cell_type": "markdown",
   "metadata": {},
   "source": [
    "## 実行"
   ]
  },
  {
   "cell_type": "code",
   "execution_count": 55,
   "metadata": {
    "collapsed": false
   },
   "outputs": [],
   "source": [
    "#Load observed data\n",
    "data = np.load('data_test.npy')\n",
    "\n",
    "#Define Initial state & params\n",
    "dt = 0.05\n",
    "F = 8.\n",
    "\n",
    "X0 = np.random.rand(len(data),1)\n",
    "P0 = 25*np.matrix(np.identity(len(data)))\n",
    "C = np.zeros((len(data), len(data)))\n",
    "H = np.matrix(np.identity(len(data)))\n",
    "R =  np.matrix(np.identity(len(data)))"
   ]
  },
  {
   "cell_type": "code",
   "execution_count": 56,
   "metadata": {
    "collapsed": false
   },
   "outputs": [
    {
     "name": "stdout",
     "output_type": "stream",
     "text": [
      "0\n",
      "Xf - X 1.25779274256e-05\n",
      "M e 1.25778912847e-05\n",
      "3.31117593879e-15\n",
      "Xf 36.7042643439\n",
      "Pf 907.618077496\n",
      "Xa 702.537346481\n",
      "Pa 907.618077496\n",
      "1\n",
      "Xf - X 1.40291110982e-05\n",
      "M e 1.40289341682e-05\n",
      "7.45151512025e-15\n",
      "Xf 695.946957268\n",
      "Pf -31.4827699298\n",
      "Xa 759.265236717\n",
      "Pa -31.4827699298\n",
      "2\n",
      "Xf - X 1.17382471687e-05\n",
      "M e 1.17380990901e-05\n",
      "7.15677181521e-15\n",
      "Xf 748.01220814\n",
      "Pf 28944.0269061\n",
      "Xa 751.389915436\n",
      "Pa 28944.0269061\n",
      "3\n",
      "Xf - X 1.09885078581e-05\n",
      "M e 1.09884423142e-05\n",
      "5.33542484217e-15\n",
      "Xf 740.561829981\n",
      "Pf 899492.020414\n",
      "Xa 1249.33204551\n",
      "Pa 899492.020414\n",
      "4\n",
      "Xf - X 1.12916498178e-05\n",
      "M e 1.12915572956e-05\n",
      "4.9920795945e-15\n",
      "Xf 1198.43720042\n",
      "Pf 25344232.9088\n",
      "Xa 751.36597641\n",
      "Pa 25344232.9088\n",
      "5\n",
      "Xf - X 9.86065238794e-06\n",
      "M e 9.86055986035e-06\n",
      "4.94837242714e-15\n",
      "Xf 740.226561594\n",
      "Pf 733667230.855\n",
      "Xa 777.697299925\n",
      "Pa 733667230.855\n",
      "6\n",
      "Xf - X 1.31808069027e-05\n",
      "M e 1.31806974714e-05\n",
      "6.20504138945e-15\n",
      "Xf 762.860318416\n",
      "Pf 22172121732.9\n",
      "Xa 739.0889293\n",
      "Pa 22172121732.9\n",
      "7\n",
      "Xf - X 9.25533526618e-06\n",
      "M e 9.25527923997e-06\n",
      "3.99034428854e-15\n",
      "Xf 728.506686164\n",
      "Pf 702943933391.0\n",
      "Xa 44286.3028857\n",
      "Pa 702943933391.0\n",
      "8\n",
      "Xf - X 898204683.36\n",
      "M e 898173975.873\n",
      "0.268615642785\n",
      "Xf 9.80439348358e+16\n",
      "Pf 2.57208328295e+27\n",
      "Xa 7.15305044211e+16\n",
      "Pa 2.57208328295e+27\n",
      "9\n",
      "Xf - X 4.43299480178e+181\n",
      "M e 4.43299752291e+181\n",
      "2.42176644623e+169\n",
      "Xf 4.96426790437e+199\n",
      "Pf -2.73980518329e+214\n",
      "Xa 1.55568743155e+200\n",
      "Pa -2.73980518329e+214\n",
      "10\n"
     ]
    },
    {
     "name": "stderr",
     "output_type": "stream",
     "text": [
      "/Users/tsuzuki/.conda/envs/py27/lib/python2.7/site-packages/ipykernel/__main__.py:5: RuntimeWarning: invalid value encountered in add\n",
      "/Users/tsuzuki/.conda/envs/py27/lib/python2.7/site-packages/ipykernel/__main__.py:12: RuntimeWarning: invalid value encountered in subtract\n",
      "/Users/tsuzuki/.conda/envs/py27/lib/python2.7/site-packages/ipykernel/__main__.py:18: RuntimeWarning: invalid value encountered in subtract\n",
      "/Users/tsuzuki/.conda/envs/py27/lib/python2.7/site-packages/ipykernel/__main__.py:20: RuntimeWarning: overflow encountered in power\n",
      "/Users/tsuzuki/.conda/envs/py27/lib/python2.7/site-packages/ipykernel/__main__.py:22: RuntimeWarning: overflow encountered in power\n",
      "/Users/tsuzuki/.conda/envs/py27/lib/python2.7/site-packages/ipykernel/__main__.py:23: RuntimeWarning: overflow encountered in power\n",
      "/Users/tsuzuki/.conda/envs/py27/lib/python2.7/site-packages/ipykernel/__main__.py:19: RuntimeWarning: overflow encountered in power\n"
     ]
    },
    {
     "name": "stdout",
     "output_type": "stream",
     "text": [
      "Xf - X nan\n",
      "M e nan\n",
      "nan\n",
      "Xf nan\n",
      "Pf nan\n",
      "Xa nan\n",
      "Pa nan\n",
      "11\n",
      "Xf - X nan\n",
      "M e nan\n",
      "nan\n",
      "Xf nan\n",
      "Pf nan\n",
      "Xa nan\n",
      "Pa nan\n",
      "12\n",
      "Xf - X nan\n",
      "M e nan\n",
      "nan\n",
      "Xf nan\n",
      "Pf nan\n",
      "Xa nan\n",
      "Pa nan\n",
      "13\n",
      "Xf - X nan\n",
      "M e nan\n",
      "nan\n",
      "Xf nan\n",
      "Pf nan\n",
      "Xa nan\n",
      "Pa nan\n",
      "14\n",
      "Xf - X nan\n",
      "M e nan\n",
      "nan\n",
      "Xf nan\n",
      "Pf nan\n",
      "Xa nan\n",
      "Pa nan\n",
      "15\n",
      "Xf - X nan\n",
      "M e nan\n",
      "nan\n",
      "Xf nan\n",
      "Pf nan\n",
      "Xa nan\n",
      "Pa nan\n",
      "16\n",
      "Xf - X nan\n",
      "M e nan\n",
      "nan\n",
      "Xf nan\n",
      "Pf nan\n",
      "Xa nan\n",
      "Pa nan\n",
      "17\n",
      "Xf - X nan\n",
      "M e nan\n",
      "nan\n",
      "Xf nan\n",
      "Pf nan\n",
      "Xa nan\n",
      "Pa nan\n",
      "18\n",
      "Xf - X nan\n",
      "M e nan\n",
      "nan\n",
      "Xf nan\n",
      "Pf nan\n",
      "Xa nan\n",
      "Pa nan\n",
      "19\n",
      "Xf - X nan\n",
      "M e nan\n",
      "nan\n",
      "Xf nan\n",
      "Pf nan\n",
      "Xa nan\n",
      "Pa nan\n",
      "20\n",
      "Xf - X nan\n",
      "M e nan\n",
      "nan\n",
      "Xf nan\n",
      "Pf nan\n",
      "Xa nan\n",
      "Pa nan\n",
      "21\n",
      "Xf - X nan\n",
      "M e nan\n",
      "nan\n",
      "Xf nan\n",
      "Pf nan\n",
      "Xa nan\n",
      "Pa nan\n",
      "22\n",
      "Xf - X nan\n",
      "M e nan\n",
      "nan\n",
      "Xf nan\n",
      "Pf nan\n",
      "Xa nan\n",
      "Pa nan\n",
      "23\n",
      "Xf - X nan\n",
      "M e nan\n",
      "nan\n",
      "Xf nan\n",
      "Pf nan\n",
      "Xa nan\n",
      "Pa nan\n",
      "24\n",
      "Xf - X nan\n",
      "M e nan\n",
      "nan\n",
      "Xf nan\n",
      "Pf nan\n",
      "Xa nan\n",
      "Pa nan\n",
      "25\n",
      "Xf - X nan\n",
      "M e nan\n",
      "nan\n",
      "Xf nan\n",
      "Pf nan\n",
      "Xa nan\n",
      "Pa nan\n",
      "26\n",
      "Xf - X nan\n",
      "M e nan\n",
      "nan\n",
      "Xf nan\n",
      "Pf nan\n",
      "Xa nan\n",
      "Pa nan\n",
      "27\n",
      "Xf - X nan\n",
      "M e nan\n",
      "nan\n",
      "Xf nan\n",
      "Pf nan\n",
      "Xa nan\n",
      "Pa nan\n",
      "28\n",
      "Xf - X nan\n",
      "M e nan\n",
      "nan\n",
      "Xf nan\n",
      "Pf nan\n",
      "Xa nan\n",
      "Pa nan\n",
      "29\n",
      "Xf - X nan\n",
      "M e nan\n",
      "nan\n",
      "Xf nan\n",
      "Pf nan\n",
      "Xa nan\n",
      "Pa nan\n"
     ]
    }
   ],
   "source": [
    "# Assimilation\n",
    "records = KL_logging(data, X0, P0, C, H, R ,dt, model=None)"
   ]
  },
  {
   "cell_type": "markdown",
   "metadata": {},
   "source": [
    "## 学習が発散した→現在デバック中"
   ]
  },
  {
   "cell_type": "markdown",
   "metadata": {},
   "source": [
    "### Errorをlogプロット"
   ]
  },
  {
   "cell_type": "markdown",
   "metadata": {},
   "source": [
    "#### エラーが指数関数的に発散．おかしい．"
   ]
  },
  {
   "cell_type": "code",
   "execution_count": 32,
   "metadata": {
    "collapsed": false
   },
   "outputs": [
    {
     "data": {
      "text/plain": [
       "[<matplotlib.lines.Line2D at 0x10f4bfcd0>]"
      ]
     },
     "execution_count": 32,
     "metadata": {},
     "output_type": "execute_result"
    },
    {
     "data": {
      "image/png": "[encoded data removed]",
      "text/plain": [
       "<matplotlib.figure.Figure at 0x10f4bf350>"
      ]
     },
     "metadata": {},
     "output_type": "display_data"
    }
   ],
   "source": [
    "plt.plot(np.log(records[\"E_pred\"]))\n",
    "plt.plot(np.log(records[\"E_fit\"]))"
   ]
  },
  {
   "cell_type": "markdown",
   "metadata": {},
   "source": [
    "### XfとXaをlogプロット"
   ]
  },
  {
   "cell_type": "code",
   "execution_count": 40,
   "metadata": {
    "collapsed": false,
    "scrolled": true
   },
   "outputs": [
    {
     "data": {
      "text/plain": [
       "[<matplotlib.lines.Line2D at 0x110a48d10>]"
      ]
     },
     "execution_count": 40,
     "metadata": {},
     "output_type": "execute_result"
    },
    {
     "data": {
      "image/png": "[encoded data removed]",
      "text/plain": [
       "<matplotlib.figure.Figure at 0x11089d4d0>"
      ]
     },
     "metadata": {},
     "output_type": "display_data"
    }
   ],
   "source": [
    "i=1\n",
    "plt.plot(records[\"Xf\"][i])\n",
    "plt.plot(records[\"Xa\"][i])\n",
    "plt.plot(data[i])"
   ]
  },
  {
   "cell_type": "code",
   "execution_count": 46,
   "metadata": {
    "collapsed": false,
    "scrolled": false
   },
   "outputs": [
    {
     "data": {
      "text/plain": [
       "[<matplotlib.lines.Line2D at 0x112ccec10>]"
      ]
     },
     "execution_count": 46,
     "metadata": {},
     "output_type": "execute_result"
    },
    {
     "data": {
      "image/png": "[encoded data removed]",
      "text/plain": [
       "<matplotlib.figure.Figure at 0x111d1ff90>"
      ]
     },
     "metadata": {},
     "output_type": "display_data"
    }
   ],
   "source": [
    "i=2\n",
    "plt.plot(records[\"Xf\"][i])\n",
    "plt.plot(records[\"Xa\"][i])\n",
    "plt.plot(data[i])m"
   ]
  },
  {
   "cell_type": "code",
   "execution_count": 55,
   "metadata": {
    "collapsed": false
   },
   "outputs": [
    {
     "data": {
      "text/plain": [
       "array([ -5.38498102e-01,   3.28082127e+00,   1.77178766e-01,\n",
       "        -1.62832706e+00,  -4.83122340e+00,  -5.72148385e+00,\n",
       "        -3.67769205e-01,   1.90406944e+01,   1.34298764e+01,\n",
       "         1.22524671e+01,   1.12784888e+00,   1.34170464e+01,\n",
       "         8.74875329e+00,   6.20425823e+00,   1.31379295e+01,\n",
       "        -3.85532758e+00,  -3.43059990e+00,   2.05964033e+00,\n",
       "         7.14379333e+00,  -2.83401951e+00,   2.89284203e+00,\n",
       "        -1.80499668e+00,   6.79530772e+00,   4.85282385e+00,\n",
       "        -2.02874622e+00,   5.04419762e+00,   2.82638239e+00,\n",
       "         4.33809788e-01,   8.30600108e+00,  -4.77259282e+00,\n",
       "         1.58200392e+00,  -1.41557055e+01,  -8.44528352e-01,\n",
       "         4.43443989e+00,   3.72400812e+00,   2.54156235e+00,\n",
       "         7.43517005e+00,   7.37291373e-01,   1.00858066e+01,\n",
       "        -1.78474908e-01,   7.01983342e+00,  -1.16585787e+01,\n",
       "         1.17308087e+01,   5.36977360e+01,  -2.09798275e+02,\n",
       "        -1.93415675e+03,  -3.21241766e+03,  -5.22368297e+03,\n",
       "        -1.70930047e+04,  -6.22824857e+03,   1.14131989e+04,\n",
       "         2.91410261e+03,   4.65729539e+01,  -8.29530476e+01,\n",
       "         2.67471058e+01,  -1.41916718e+01,   3.04809234e+00,\n",
       "         2.80968017e+00,   5.61078467e+00,  -2.68463140e+00,\n",
       "         1.77057253e+01,  -2.64507797e+01,   4.58359540e+01,\n",
       "         9.18546278e+02,  -8.69451120e+02,   7.59373455e+02,\n",
       "         5.22160902e+03,   6.87505345e+02,  -2.48992911e+02,\n",
       "        -4.42022769e+01,  -6.19583809e+00,  -1.68188543e+01,\n",
       "         2.72438434e+01,  -3.37057517e+01,   1.59449065e+01,\n",
       "         2.43720229e+01,  -2.40997205e+01,  -6.60850814e+00,\n",
       "         6.28135305e+00,   6.07703647e+01,  -1.42176449e+02,\n",
       "        -6.88868252e+06,  -3.12374772e+08,  -9.60863043e+17,\n",
       "        -6.73642565e+18,  -6.66534061e+30,   5.82408157e+28,\n",
       "        -3.65696958e+37,  -2.91241055e+35,  -3.48305169e+39,\n",
       "         1.83676889e+38,  -5.72172783e+40,   6.33863561e+38,\n",
       "        -4.34213264e+39,  -8.48058316e+39,   1.27912907e+38,\n",
       "        -1.76856691e+39,   2.24967359e+36,   2.49660099e+21,\n",
       "         1.20661462e+05])"
      ]
     },
     "execution_count": 55,
     "metadata": {},
     "output_type": "execute_result"
    }
   ],
   "source": [
    "records[\"Xf\"][3]"
   ]
  },
  {
   "cell_type": "code",
   "execution_count": 54,
   "metadata": {
    "collapsed": false,
    "scrolled": true
   },
   "outputs": [
    {
     "data": {
      "text/plain": [
       "array([              inf,              -inf,              -inf,\n",
       "                     inf,              -inf,  -3.52090171e+169,\n",
       "         3.05565445e+070,  -1.49163109e+057,   8.43477888e+056,\n",
       "         1.40505017e+058,  -7.90631219e+057,  -8.23322802e+057,\n",
       "        -1.33184334e+057,   4.38638195e+051,  -4.05792261e+040,\n",
       "        -1.05988635e+029,  -6.64071886e+021,   3.86722003e+021,\n",
       "        -1.55951676e+023,   2.13348981e+058,   1.70436220e+068,\n",
       "        -2.64847598e+148,  -7.36659917e+163,   1.36999156e+291,\n",
       "         1.88392809e+292,              -inf,              -inf,\n",
       "                     nan,              -inf,               nan,\n",
       "                     nan,               inf,               nan,\n",
       "                     nan,               nan,               nan,\n",
       "                     nan,               nan,               nan,\n",
       "                     nan,               nan,               nan,\n",
       "                     nan,               nan,               nan,\n",
       "                     nan,               nan,               nan,\n",
       "                     nan,               nan,               nan,\n",
       "                     nan,               nan,               nan,\n",
       "                     nan,               nan,               nan,\n",
       "                     nan,               nan,               nan,\n",
       "                     nan,               nan,               nan,\n",
       "                     nan,               nan,               nan,\n",
       "                     nan,               nan,               nan,\n",
       "                     nan,               nan,               nan,\n",
       "                     nan,               nan,               nan,\n",
       "                     nan,               nan,               nan,\n",
       "                     nan,               nan,               nan,\n",
       "                     nan,               nan,               nan,\n",
       "                     nan,               nan,               nan,\n",
       "                     nan,               nan,               nan,\n",
       "                     nan,               nan,               nan,\n",
       "                     nan,               nan,               nan,\n",
       "                     nan,               nan,               nan,\n",
       "                     nan])"
      ]
     },
     "execution_count": 54,
     "metadata": {},
     "output_type": "execute_result"
    }
   ],
   "source": [
    "records[\"Xf\"][4]"
   ]
  },
  {
   "cell_type": "markdown",
   "metadata": {},
   "source": [
    "### PfとPaをlogプロット"
   ]
  },
  {
   "cell_type": "markdown",
   "metadata": {},
   "source": [
    "#### 分散共分散行列の(1,1)成分が負になっている．なにかがおかしい"
   ]
  },
  {
   "cell_type": "code",
   "execution_count": 35,
   "metadata": {
    "collapsed": false
   },
   "outputs": [
    {
     "data": {
      "text/plain": [
       "[<matplotlib.lines.Line2D at 0x10f53dd90>]"
      ]
     },
     "execution_count": 35,
     "metadata": {},
     "output_type": "execute_result"
    },
    {
     "data": {
      "image/png": "[encoded data removed]",
      "text/plain": [
       "<matplotlib.figure.Figure at 0x10f53df10>"
      ]
     },
     "metadata": {},
     "output_type": "display_data"
    }
   ],
   "source": [
    "plt.plot(records[\"Pf\"][:,0,0])\n",
    "plt.plot(records[\"Pa\"][:,0,0])"
   ]
  },
  {
   "cell_type": "code",
   "execution_count": null,
   "metadata": {
    "collapsed": true
   },
   "outputs": [],
   "source": []
  }
 ],
 "metadata": {
  "anaconda-cloud": {},
  "kernelspec": {
   "display_name": "Python [conda env:py27]",
   "language": "python",
   "name": "conda-env-py27-py"
  },
  "language_info": {
   "codemirror_mode": {
    "name": "ipython",
    "version": 2
   },
   "file_extension": ".py",
   "mimetype": "text/x-python",
   "name": "python",
   "nbconvert_exporter": "python",
   "pygments_lexer": "ipython2",
   "version": "2.7.12"
  },
  "latex_envs": {
   "bibliofile": "biblio.bib",
   "cite_by": "apalike",
   "current_citInitial": 1,
   "eqLabelWithNumbers": true,
   "eqNumInitial": 0
  },
  "nav_menu": {},
  "toc": {
   "navigate_menu": true,
   "number_sections": true,
   "sideBar": true,
   "threshold": 6,
   "toc_cell": false,
   "toc_section_display": "block",
   "toc_window_display": false
  }
 },
 "nbformat": 4,
 "nbformat_minor": 1
}
